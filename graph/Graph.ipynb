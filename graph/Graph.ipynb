{
 "cells": [
  {
   "cell_type": "markdown",
   "metadata": {},
   "source": [
    "# Project Report Notebook - Football Transfer Analytics"
   ]
  },
  {
   "cell_type": "markdown",
   "metadata": {},
   "source": [
    "[Executive_Summary](#Executive_Summary)\n",
    "<br>[Table of Contents Introduction](#Table_of_Contents_Introduction)\n",
    "<br>[Analysis](#analysis)\n",
    "<br>[Conclusion](#conclusion)\n",
    "<br>[Appendix: Project Structure](#Project_Structure)"
   ]
  },
  {
   "cell_type": "markdown",
   "metadata": {},
   "source": [
    "---\n",
    "## Executive Summary <a id='Executive_Summary'></a>\n",
    "\n",
    "The question: What recipy a football player should follow in order to increase his market value the most?\n",
    "\n",
    "\n",
    "Purpose: We want to analyze what are the most important factors that might increase the value of a player when he transfers from one club to another. Hence, we built a network by taking 10 years of historical data and computed different centrality measurements in order to find out valuable information using machine learning algorithms.\n",
    "\n",
    "Network: Transfers of professional and semi-professional football players.\n",
    "Type: Directed and weighted network\n",
    "Source: TransferMarket.\n",
    "Modification: We have scrapped the clubs that have a total market value above 200 million euros. From these clubs, we downloaded the html files of their football players. This include the nationality, birthdate, transfer history, transfer fee etc."
   ]
  },
  {
   "cell_type": "code",
   "execution_count": 14,
   "metadata": {},
   "outputs": [],
   "source": [
    "from urllib.request import *\n",
    "from bs4 import BeautifulSoup\n",
    "import re\n",
    "import pandas as pd\n",
    "import numpy as np\n",
    "import scipy.stats as stats\n",
    "import pylab as pl\n",
    "import requests\n",
    "from geopy.geocoders import Nominatim\n",
    "import json\n",
    "import folium\n",
    "import os\n",
    "import time\n",
    "from tempfile import TemporaryFile\n",
    "from datetime import datetime\n",
    "import matplotlib.pyplot as plt\n",
    "from collections import Counter\n",
    "from scipy import sparse, stats, spatial\n",
    "import scipy.sparse.linalg\n",
    "import networkx as nx\n",
    "from pylab import rcParams\n",
    "%matplotlib inline\n",
    "\n",
    "# ML related libraries\n",
    "from sklearn.linear_model import Lasso\n",
    "import copy\n",
    "from sklearn.externals import joblib\n",
    "from sklearn.metrics import mean_absolute_error\n",
    "from sklearn.neighbors import KNeighborsRegressor\n",
    "from sklearn.neural_network import MLPRegressor\n",
    "import sklearn.svm as svm\n",
    "from sklearn.ensemble import RandomForestRegressor\n",
    "from sklearn.decomposition import PCA\n",
    "\n",
    "from models import *\n",
    "from helpers import *"
   ]
  },
  {
   "cell_type": "markdown",
   "metadata": {},
   "source": [
    "## Loading clubs data"
   ]
  },
  {
   "cell_type": "code",
   "execution_count": null,
   "metadata": {
    "scrolled": false
   },
   "outputs": [],
   "source": [
    "with open(\"../scraper/data/clubs.json\", \"r\") as in_file:\n",
    "    clubs = json.load(in_file)\n",
    "print(\"There are \" + str(len(clubs)) + \" clubs\")\n",
    "clubs[0]\n",
    "\n",
    "# Dictionary of club id to name\n",
    "club_name_id = dict()\n",
    "for club in clubs:\n",
    "    club_name_id[club['href'].split(\"/\")[4]] = club['name']"
   ]
  },
  {
   "cell_type": "markdown",
   "metadata": {},
   "source": [
    "## Loading players"
   ]
  },
  {
   "cell_type": "code",
   "execution_count": 3,
   "metadata": {},
   "outputs": [
    {
     "name": "stdout",
     "output_type": "stream",
     "text": [
      "We have 12075 players\n"
     ]
    }
   ],
   "source": [
    "with open(\"../scraper/data/players_ref.json\", \"r\") as in_file:\n",
    "    players_ref_list = json.load(in_file)\n",
    "\n",
    "club_ids = []\n",
    "for club in clubs:\n",
    "    club_ids.append(int(club['href'].split(\"/\")[-3]))\n",
    "    \n",
    "print (\"We have {} players\".format(len(players_ref_list)))"
   ]
  },
  {
   "cell_type": "code",
   "execution_count": 4,
   "metadata": {
    "collapsed": true
   },
   "outputs": [],
   "source": [
    "# This function will transform the fees of a player from a string to a number so that it can be used as a weight for the edges\n",
    "def fix_fee(player_fee):\n",
    "    try:\n",
    "        player_fee = player_fee.replace(\":\",\": \").replace(\",\",\".\")\n",
    "    except:\n",
    "        pass\n",
    "    if re.search(r'\\d+.\\d+', player_fee) is not None:\n",
    "        fee = float(re.search(r'\\d+.\\d+', player_fee).group())\n",
    "    else:\n",
    "        fee = 0\n",
    "    \n",
    "    if fee > 0:\n",
    "        if \"Mill.\" in player_fee:\n",
    "            processed_fee = int(fee*1000000)\n",
    "        elif \"Th.\" in player_fee:\n",
    "            processed_fee = int(fee*1000)\n",
    "        else:\n",
    "            processed_fee = int(fee)\n",
    "    else:\n",
    "        processed_fee = 0\n",
    "    \n",
    "    return processed_fee\n",
    "\n",
    "# Returns the year of the transfer\n",
    "def get_year(date):\n",
    "    return date[-4:]\n",
    "\n",
    "# Define method to parse player given player url\n",
    "def parsePlayer(player_ref):    \n",
    "    playerID = player_ref.split(\"/\")[-1]\n",
    "    \n",
    "    with open(\"../scraper/data/players/\" + playerID + \"/page.html\") as in_file:\n",
    "        player_page = json.load(in_file)\n",
    "    \n",
    "    response = BeautifulSoup(player_page, 'html.parser')\n",
    "    \n",
    "    playerInfos = str(response.find(\"table\", {\"class\":\"auflistung\"}))\n",
    "    player = {}\n",
    "    player[\"href\"] = player_ref\n",
    "    try:\n",
    "        player[\"number\"] = response.find(\"span\", {\"class\":\"dataRN\"}).text\n",
    "    except:\n",
    "        player[\"number\"] = None\n",
    "    player[\"name\"] = response.find(\"h1\", {\"itemprop\":\"name\"}).text\n",
    "    player[\"player_id\"] = player_ref.split(\"/\")[-1]\n",
    "    position = BeautifulSoup(playerInfos.split(\"Position\")[1], 'html.parser').find(\"td\").text\n",
    "    reg = re.compile( \"[a-zA-Z -]\")\n",
    "    player[\"position\"] = \"\".join(reg.findall(position))\n",
    "    try:\n",
    "        player[\"birthdate\"] = BeautifulSoup(playerInfos.split(\"Date of birth\")[1], 'html.parser').find(\"td\").text\n",
    "    except:\n",
    "        player[\"birthdate\"] = None\n",
    "    player[\"nationality\"] = BeautifulSoup(playerInfos.split(\"Nationality\")[1], 'html.parser').find(\"td\").find(\"img\")[\"title\"]\n",
    "    player[\"current_club\"] = BeautifulSoup(playerInfos.split(\"Current club\")[1], 'html.parser').find(\"td\").find_all(\"a\")[-1].text\n",
    "\n",
    "    try:\n",
    "        transfers = []\n",
    "        trans = response.find(\"div\",{\"class\" : \"box transferhistorie\"}).find(\"table\").find(\"tbody\").find_all(\"tr\", {\"class\":\"zeile-transfer\"})\n",
    "\n",
    "        for t in trans:\n",
    "            transfer = {}\n",
    "            transfer[\"player\"] = player_ref.split(\"/\")[-1]\n",
    "            transfer[\"date\"] = t.find_all(\"td\", {\"class\":\"zentriert hide-for-small\"})[1].text\n",
    "            transfer[\"from\"] = t.find_all(\"td\", {\"class\":\"no-border-rechts vereinswappen\"})[0].find(\"a\")[\"id\"]\n",
    "            transfer[\"to\"] = t.find_all(\"td\", {\"class\":\"no-border-rechts vereinswappen\"})[1].find(\"a\")[\"id\"]\n",
    "            if (t.find(\"td\", {\"class\":\"zelle-abloese\"}).text) == \"End of loan\" or t.find(\"td\", {\"class\":\"zelle-abloese\"}).text ==\"Loan\":\n",
    "                transfer[\"fee\"] = t.find(\"td\", {\"class\":\"zelle-mw\"}).text\n",
    "            else:\n",
    "                transfer[\"fee\"] = t.find(\"td\",{\"class\":\"zelle-abloese\"}).text\n",
    "            transfer[\"fee\"] = fix_fee(transfer[\"fee\"])\n",
    "            transfers.append(transfer)\n",
    "    except:\n",
    "        transfers = None\n",
    "        \n",
    "    return player, transfers\n",
    "\n",
    "\n",
    "def get_club_value(club_id):\n",
    "    for club in clubs:\n",
    "        if (int(club['href'].split(\"/\")[-3]) == club_id):\n",
    "            return fix_fee(club['market_value'])\n",
    "    "
   ]
  },
  {
   "cell_type": "code",
   "execution_count": 5,
   "metadata": {},
   "outputs": [
    {
     "data": {
      "text/plain": [
       "({'birthdate': 'May 11, 1992 ',\n",
       "  'current_club': 'Chelsea FC',\n",
       "  'href': '/thibaut-courtois/profil/spieler/108390',\n",
       "  'name': 'Thibaut Courtois',\n",
       "  'nationality': 'Belgium',\n",
       "  'number': '#13',\n",
       "  'player_id': '108390',\n",
       "  'position': 'Goalkeeper'},\n",
       " [{'date': 'Jun 30, 2014',\n",
       "   'fee': 25000000,\n",
       "   'from': '13',\n",
       "   'player': '108390',\n",
       "   'to': '631'},\n",
       "  {'date': 'Jul 27, 2011',\n",
       "   'fee': 1200000,\n",
       "   'from': '631',\n",
       "   'player': '108390',\n",
       "   'to': '13'},\n",
       "  {'date': 'Jul 26, 2011',\n",
       "   'fee': 8950000,\n",
       "   'from': '1184',\n",
       "   'player': '108390',\n",
       "   'to': '631'},\n",
       "  {'date': 'Jul 1, 2009',\n",
       "   'fee': 0,\n",
       "   'from': '3494',\n",
       "   'player': '108390',\n",
       "   'to': '1184'},\n",
       "  {'date': 'Jul 1, 2008',\n",
       "   'fee': 0,\n",
       "   'from': '49393',\n",
       "   'player': '108390',\n",
       "   'to': '3494'},\n",
       "  {'date': 'Jul 1, 2007',\n",
       "   'fee': 0,\n",
       "   'from': '34282',\n",
       "   'player': '108390',\n",
       "   'to': '49393'}])"
      ]
     },
     "execution_count": 5,
     "metadata": {},
     "output_type": "execute_result"
    }
   ],
   "source": [
    "# Example test of what the function would return\n",
    "player_test = parsePlayer(players_ref_list[0])\n",
    "player_test"
   ]
  },
  {
   "cell_type": "markdown",
   "metadata": {
    "collapsed": true
   },
   "source": [
    "## Build graph and dataframe of transfers"
   ]
  },
  {
   "cell_type": "code",
   "execution_count": 6,
   "metadata": {
    "collapsed": true
   },
   "outputs": [],
   "source": [
    "# Do not run this cell as it will take a lot of time\n",
    "transfer = {'from_club_id': [],\n",
    "            'to_club_id': [],\n",
    "            'player_nationality': [],\n",
    "            'value_increase': [],\n",
    "            'player_stay_in_years': [],\n",
    "            'club_market_value_from': [],\n",
    "            'club_market_value_to': [],\n",
    "            'transfer_year': [],\n",
    "            'position': [],\n",
    "            'birth_date_year': []\n",
    "            }\n",
    "\n",
    "G = nx.DiGraph()\n",
    "# Go through all the players\n",
    "for player_ref in players_ref_list:\n",
    "    player = parsePlayer(player_ref)\n",
    "    # Check that player has more than 1 transfer recorded\n",
    "    if player[1] is not None and len(player[1])>1:\n",
    "        # Get initial recorded transfer\n",
    "        year_start = int(get_year(player[1][-1][\"date\"].strip()))\n",
    "        # Loop over player transfers from oldest to most recent\n",
    "        for index in range(2,len(player[1])+1):\n",
    "            # Compute the number of years a player stayed in the club before he transfered\n",
    "            player_stay = int(get_year(player[1][-index][\"date\"].strip())) - year_start\n",
    "            # Update year_start\n",
    "            year_start = int(get_year(player[1][-index][\"date\"].strip()))\n",
    "            # Only consider the switch when a player stayed less than 5 years in a club\n",
    "            if (player_stay <= 5):\n",
    "                from_club = int(player[1][-index][\"from\"])\n",
    "                to_club = int(player[1][-index][\"to\"])\n",
    "                # Only considering transfers between clubs whose value is above 200 million euros\n",
    "                if(from_club in club_ids and to_club in club_ids):\n",
    "                    # Value increase/decrease in a player compared to previous transfer\n",
    "                    value_increase = player[1][-index][\"fee\"] - player[1][-index+1][\"fee\"]\n",
    "                    # Add entry to dataframe\n",
    "                    transfer['from_club_id'].append(from_club)\n",
    "                    transfer['to_club_id'].append(to_club)\n",
    "                    transfer['player_nationality'].append(player[0]['nationality'])\n",
    "                    transfer['value_increase'].append(value_increase)\n",
    "                    transfer['player_stay_in_years'].append(player_stay)\n",
    "                    transfer['club_market_value_from'].append(get_club_value(from_club))\n",
    "                    transfer['club_market_value_to'].append(get_club_value(to_club))\n",
    "                    transfer['transfer_year'].append(get_year(player[1][-index]['date'].strip()))\n",
    "                    transfer['position'].append(player[0]['position'])\n",
    "                    transfer['birth_date_year'].append(get_year(player[0]['birthdate'].strip()))\n",
    "                    # Build graph from the transfer. Node is a club\n",
    "                    # add two attributes: transfer fee between clubs and number of transfers\n",
    "                    if G.has_edge(from_club, to_club):\n",
    "                        G[from_club][to_club][\"transfer_fee\"] += player[1][-index][\"fee\"]\n",
    "                        G[from_club][to_club][\"num_transfers\"] += 1\n",
    "                    else:\n",
    "                        G.add_edge(from_club, to_club, transfer_fee=player[1][-index][\"fee\"], num_transfers=1)"
   ]
  },
  {
   "cell_type": "code",
   "execution_count": null,
   "metadata": {},
   "outputs": [],
   "source": [
    "df = pd.DataFrame(transfer, columns= ['from_club_id', 'to_club_id','player_nationality','value_increase','player_stay_in_years','club_market_value_from','club_market_value_to','transfer_year','position','birth_date_year'])"
   ]
  },
  {
   "cell_type": "markdown",
   "metadata": {},
   "source": [
    "### Add graph measures to each row"
   ]
  },
  {
   "cell_type": "code",
   "execution_count": 8,
   "metadata": {
    "collapsed": true
   },
   "outputs": [],
   "source": [
    "# Unweighted Degree centrality\n",
    "unweighted_in_degree_centrality_list = nx.in_degree_centrality(G)\n",
    "unweighted_out_degree_centrality_list = nx.out_degree_centrality(G)\n",
    "\n",
    "# Other measures\n",
    "closeness_centrality_list = nx.closeness_centrality(G)\n",
    "closeness_fee_centrality_list = nx.closeness_centrality(G,distance='transfer_fee')\n",
    "unweighted_betweenness_centrality_list = nx.betweenness_centrality(G)\n",
    "weighted_fee_betweenness_centrality_list = nx.betweenness_centrality(G, weight='transfer_fee')\n",
    "weighted_transfers_betweenness_centrality_list = nx.betweenness_centrality(G, weight='num_transfers')\n",
    "weighted_fee_pagerank_list = nx.pagerank(G, weight=\"transfer_fee\")\n",
    "weighted_transfers_pagerank_list = nx.pagerank(G, weight=\"num_transfers\")\n",
    "unweighted_eigenvector_list = nx.eigenvector_centrality(G)\n",
    "weighted_fee_eigenvector_list = nx.eigenvector_centrality(G, weight=\"transfer_fee\")\n",
    "weighted_transfers_eigenvector_list = nx.eigenvector_centrality(G, weight=\"num_transfers\")\n"
   ]
  },
  {
   "cell_type": "code",
   "execution_count": 14,
   "metadata": {
    "collapsed": true
   },
   "outputs": [],
   "source": [
    "# Add column measurements\n",
    "# Replace in_degree\n",
    "df['from_in_degree'] = df['from_club_id'].map(lambda x: unweighted_in_degree_centrality_list[x])\n",
    "df['to_in_degree'] = df['to_club_id'].map(lambda x: unweighted_in_degree_centrality_list[x])\n",
    "\n",
    "# Replace out_degree\n",
    "df['from_out_degree'] = df['from_club_id'].map(lambda x: unweighted_out_degree_centrality_list[x])\n",
    "df['to_out_degree'] = df['to_club_id'].map(lambda x: unweighted_out_degree_centrality_list[x])\n",
    "\n",
    "# Replace closeness\n",
    "df['from_closeness'] = df['from_club_id'].map(lambda x: closeness_centrality_list[x])\n",
    "df['to_closeness'] = df['to_club_id'].map(lambda x: closeness_centrality_list[x])\n",
    "\n",
    "# Replace fee closeness\n",
    "df['from_fee_closeness'] = df['from_club_id'].map(lambda x: closeness_fee_centrality_list[x])\n",
    "df['to_fee_closeness'] = df['to_club_id'].map(lambda x: closeness_fee_centrality_list[x])\n",
    "\n",
    "# Unweighted betweenness\n",
    "df['from_betweenness'] = df['from_club_id'].map(lambda x: unweighted_betweenness_centrality_list[x])\n",
    "df['to_betweenness'] = df['to_club_id'].map(lambda x: unweighted_betweenness_centrality_list[x])\n",
    "\n",
    "# Weighted fee betweenness\n",
    "df['from_fee_betweenness'] = df['from_club_id'].map(lambda x: weighted_fee_betweenness_centrality_list[x])\n",
    "df['to_fee_betweenness'] = df['to_club_id'].map(lambda x: weighted_fee_betweenness_centrality_list[x])\n",
    "\n",
    "# Weighted transfers betweenness\n",
    "df['from_transfers_betweenness'] = df['from_club_id'].map(lambda x: weighted_transfers_betweenness_centrality_list[x])\n",
    "df['to_transfers_betweenness'] = df['to_club_id'].map(lambda x: weighted_transfers_betweenness_centrality_list[x])\n",
    "\n",
    "# Weighted fee pagerank\n",
    "df['from_fee_pagerank'] = df['from_club_id'].map(lambda x: weighted_fee_pagerank_list[x])\n",
    "df['to_fee_pagerank'] = df['to_club_id'].map(lambda x: weighted_fee_pagerank_list[x])\n",
    "\n",
    "# Weighted transfers pagerank\n",
    "df['from_transfers_pagerank'] = df['from_club_id'].map(lambda x: weighted_transfers_pagerank_list[x])\n",
    "df['to_transfers_pagerank'] = df['to_club_id'].map(lambda x: weighted_transfers_pagerank_list[x])\n",
    "\n",
    "# Unweighted eigenvector\n",
    "df['from_eigenvector'] = df['from_club_id'].map(lambda x: unweighted_eigenvector_list[x])\n",
    "df['to_eigenvector'] = df['to_club_id'].map(lambda x: unweighted_eigenvector_list[x])\n",
    "\n",
    "# Weighted fee eigenvector\n",
    "df['from_fee_eigenvector'] = df['from_club_id'].map(lambda x: weighted_fee_eigenvector_list[x])\n",
    "df['to_fee_eigenvector'] = df['to_club_id'].map(lambda x: weighted_fee_eigenvector_list[x])\n",
    "\n",
    "# Weighted transfers eigenvector\n",
    "df['from_transfers_eigenvector'] = df['from_club_id'].map(lambda x: weighted_transfers_eigenvector_list[x])\n",
    "df['to_transfers_eigenvector'] = df['to_club_id'].map(lambda x: weighted_transfers_eigenvector_list[x])\n"
   ]
  },
  {
   "cell_type": "code",
   "execution_count": 15,
   "metadata": {
    "collapsed": true
   },
   "outputs": [],
   "source": [
    "nx.write_graphml_lxml(G, \"transfers.graphml\")\n",
    "df.to_csv(\"transfers.csv\", index=False)"
   ]
  },
  {
   "cell_type": "markdown",
   "metadata": {},
   "source": [
    "## Load data from csv and adjlist"
   ]
  },
  {
   "cell_type": "code",
   "execution_count": 5,
   "metadata": {},
   "outputs": [],
   "source": [
    "df = pd.read_csv(\"transfers.csv\")\n",
    "G = nx.read_graphml(\"transfers.graphml\")"
   ]
  },
  {
   "cell_type": "code",
   "execution_count": 3,
   "metadata": {},
   "outputs": [
    {
     "name": "stdout",
     "output_type": "stream",
     "text": [
      "Name: \n",
      "Type: DiGraph\n",
      "Number of nodes: 401\n",
      "Number of edges: 9621\n",
      "Average in degree:  23.9925\n",
      "Average out degree:  23.9925\n"
     ]
    }
   ],
   "source": [
    "print (nx.info(G))"
   ]
  },
  {
   "cell_type": "markdown",
   "metadata": {},
   "source": [
    "We can see that some of the 418 clubs were not present in the graph. That's because the players of these clubs did not transfer to other clubs given the time constraint of 5 years (or no one from the other clubs transfered to them)."
   ]
  },
  {
   "cell_type": "code",
   "execution_count": 4,
   "metadata": {},
   "outputs": [
    {
     "data": {
      "text/plain": [
       "Index(['from_club_id', 'to_club_id', 'player_nationality', 'value_increase',\n",
       "       'player_stay_in_years', 'club_market_value_from',\n",
       "       'club_market_value_to', 'transfer_year', 'position', 'birth_date_year',\n",
       "       'from_in_degree', 'to_in_degree', 'from_out_degree', 'to_out_degree',\n",
       "       'from_closeness', 'to_closeness', 'from_fee_closeness',\n",
       "       'to_fee_closeness', 'from_betweenness', 'to_betweenness',\n",
       "       'from_fee_betweenness', 'to_fee_betweenness',\n",
       "       'from_transfers_betweenness', 'to_transfers_betweenness',\n",
       "       'from_fee_pagerank', 'to_fee_pagerank', 'from_transfers_pagerank',\n",
       "       'to_transfers_pagerank', 'from_eigenvector', 'to_eigenvector',\n",
       "       'from_fee_eigenvector', 'to_fee_eigenvector',\n",
       "       'from_transfers_eigenvector', 'to_transfers_eigenvector'],\n",
       "      dtype='object')"
      ]
     },
     "execution_count": 4,
     "metadata": {},
     "output_type": "execute_result"
    }
   ],
   "source": [
    "df.columns"
   ]
  },
  {
   "cell_type": "markdown",
   "metadata": {},
   "source": [
    "## Predicting player value increase"
   ]
  },
  {
   "cell_type": "markdown",
   "metadata": {},
   "source": [
    "### Preprocess data"
   ]
  },
  {
   "cell_type": "code",
   "execution_count": 8,
   "metadata": {},
   "outputs": [],
   "source": [
    "SEED = 20\n",
    "saved_models = []\n",
    "\n",
    "def build_models(list_of_network_features, normalize = False):\n",
    "    for columns_to_keep in list_of_network_features:\n",
    "        models = []\n",
    "        x_train, y_train, cols = get_data(columns_to_keep)\n",
    "        if normalize:\n",
    "            x_train = normalize_feat(x_train)\n",
    "        \n",
    "        print (\"Build models that include {} network measures\".format(columns_to_keep))\n",
    "        \n",
    "        # Build Lasso regression\n",
    "        lasso_regressor = Lasso_Regression(alpha=1e4, seed=SEED)\n",
    "        models.append(lasso_regressor)\n",
    "        # Get cross validation error\n",
    "        mean_error_lasso, std_error_lasso = cross_validation(model_ori=lasso_regressor, input=x_train, labels=y_train, K=5)\n",
    "        print('* Lasso cross validation error mean: \\t\\t{}, \\t\\tstd: {}'.format(int(mean_error_lasso), int(std_error_lasso)))\n",
    "\n",
    "        # Build KNN regressor\n",
    "        knn_regressor = KNN()\n",
    "        models.append(knn_regressor)\n",
    "        # Get cross validation error\n",
    "        mean_error_knn, std_error_knn = cross_validation(model_ori=knn_regressor, input=x_train, labels=y_train, K=5)\n",
    "        print('* KNN cross validation error mean: \\t\\t{}, \\t\\tstd: {}'.format(int(mean_error_knn), int(std_error_knn)))\n",
    "\n",
    "        # Build MLP regressor\n",
    "        mlp_regressor = MLP(seed=SEED, solver='adam', alpha=1e-5, hidden_layers=(25, 25), lr=1e-4, max_iter=100)\n",
    "        models.append(mlp_regressor)\n",
    "        # Get cross validation error\n",
    "        mean_error_mlp, std_error_mlp = cross_validation(model_ori=mlp_regressor, input=x_train, labels=y_train, K=5)\n",
    "        print('* MLP cross validation error mean: \\t\\t{}, \\t\\tstd: {}'.format(int(mean_error_mlp), int(std_error_mlp)))\n",
    "\n",
    "        # Build SVR regressor\n",
    "        svr_regressor = SVR(kernel='linear', seed=SEED)\n",
    "        models.append(svr_regressor)\n",
    "        # Get cross validation error\n",
    "        mean_error_svm, std_error_svm = cross_validation(model_ori=svr_regressor, input=x_train, labels=y_train, K=5)\n",
    "        print('* SVR cross validation error mean: \\t\\t{}, \\t\\tstd: {}'.format(int(mean_error_svm), int(std_error_svm)))\n",
    "\n",
    "        # Build Random Forest Regressor\n",
    "        random_forest_regressor = Random_Forest(n_estimators=100, max_depth=20,seed=SEED)\n",
    "        models.append(random_forest_regressor)\n",
    "        # Get cross validation error\n",
    "        mean_error_rf, std_error_rf = cross_validation(model_ori=random_forest_regressor,input=x_train, labels=y_train, K=5)\n",
    "        print('* Random Forest cross validation error mean: \\t{}, \\t\\tstd: {} \\n'.format(int(mean_error_rf), int(std_error_rf)))\n",
    "        \n",
    "        saved_models.append(models)"
   ]
  },
  {
   "cell_type": "code",
   "execution_count": 16,
   "metadata": {},
   "outputs": [
    {
     "name": "stdout",
     "output_type": "stream",
     "text": [
      "Build models that include ['from_in_degree', 'from_fee_eigenvector', 'to_in_degree', 'to_fee_eigenvector'] network measures\n",
      "* Lasso cross validation error mean: \t\t1795623, \t\tstd: 994607\n",
      "* KNN cross validation error mean: \t\t1680828, \t\tstd: 1067199\n",
      "* MLP cross validation error mean: \t\t1761343, \t\tstd: 1021312\n",
      "* SVR cross validation error mean: \t\t2397499, \t\tstd: 1390480\n",
      "* Random Forest cross validation error mean: \t1548821, \t\tstd: 1058899 \n",
      "\n",
      "Build models that include ['from_in_degree', 'from_fee_pagerank', 'to_in_degree', 'to_fee_eigenvector', 'to_fee_closeness', 'to_betweenness'] network measures\n",
      "* Lasso cross validation error mean: \t\t1795623, \t\tstd: 994607\n",
      "* KNN cross validation error mean: \t\t1680827, \t\tstd: 1067200\n",
      "* MLP cross validation error mean: \t\t1746653, \t\tstd: 1036998\n",
      "* SVR cross validation error mean: \t\t2397499, \t\tstd: 1390480\n",
      "* Random Forest cross validation error mean: \t1549311, \t\tstd: 1054685 \n",
      "\n"
     ]
    }
   ],
   "source": [
    "import warnings\n",
    "warnings.filterwarnings(\"ignore\")\n",
    "\n",
    "selected_model_features = [\n",
    "                           ['from_in_degree','from_fee_eigenvector','to_in_degree','to_fee_eigenvector'],\n",
    "                           ['from_in_degree', 'from_fee_pagerank','to_in_degree', 'to_fee_eigenvector',\n",
    "                            'to_fee_closeness', 'to_betweenness']\n",
    "                          ]\n",
    "build_models(selected_model_features)"
   ]
  },
  {
   "cell_type": "markdown",
   "metadata": {},
   "source": [
    "### Evaluate models\n",
    "The best model we reached is the Random Forest."
   ]
  },
  {
   "cell_type": "code",
   "execution_count": 76,
   "metadata": {},
   "outputs": [],
   "source": [
    "x_train, y_train, cols = get_data(['from_in_degree', 'from_fee_eigenvector', 'to_in_degree', 'to_fee_eigenvector']) # Best model\n",
    "rf_regressor = saved_models[-2][-1].clf.fit(x_train, y_train) # We saved the models in saved_models"
   ]
  },
  {
   "cell_type": "code",
   "execution_count": 77,
   "metadata": {
    "scrolled": true
   },
   "outputs": [
    {
     "data": {
      "image/png": "[encoded data removed]",
      "text/plain": [
       "<Figure size 720x2160 with 1 Axes>"
      ]
     },
     "metadata": {},
     "output_type": "display_data"
    }
   ],
   "source": [
    "importances = rf_regressor.feature_importances_\n",
    "indices = np.argsort(importances)[-20:]\n",
    "\n",
    "\n",
    "plt.figure(figsize=(10,30))\n",
    "plt.title('Feature Importances')\n",
    "plt.barh(range(len(indices)), importances[indices], color='b', align='center')\n",
    "plt.yticks(range(len(indices)), [cols[i] for i in indices])\n",
    "plt.xlabel('Relative Importance')\n",
    "plt.show()"
   ]
  },
  {
   "cell_type": "markdown",
   "metadata": {
    "collapsed": true
   },
   "source": [
    "## Analysis"
   ]
  },
  {
   "cell_type": "markdown",
   "metadata": {},
   "source": []
  },
  {
   "cell_type": "markdown",
   "metadata": {},
   "source": [
    "## Conclusion"
   ]
  },
  {
   "cell_type": "markdown",
   "metadata": {},
   "source": [
    "## Appendix: Project Structure"
   ]
  }
 ],
 "metadata": {
  "kernelspec": {
   "display_name": "Python 3",
   "language": "python",
   "name": "python3"
  },
  "language_info": {
   "codemirror_mode": {
    "name": "ipython",
    "version": 3
   },
   "file_extension": ".py",
   "mimetype": "text/x-python",
   "name": "python",
   "nbconvert_exporter": "python",
   "pygments_lexer": "ipython3",
   "version": "3.6.5"
  }
 },
 "nbformat": 4,
 "nbformat_minor": 2
}
